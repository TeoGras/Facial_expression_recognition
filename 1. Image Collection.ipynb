{
 "cells": [
  {
   "cell_type": "markdown",
   "metadata": {},
   "source": [
    "# 1. Import Dependencies"
   ]
  },
  {
   "cell_type": "code",
   "execution_count": 1,
   "metadata": {},
   "outputs": [
    {
     "name": "stdout",
     "output_type": "stream",
     "text": [
      "Requirement already satisfied: opencv-python in d:\\youtube\\od\\tfodcourse\\tfod\\lib\\site-packages (4.5.1.48)\n",
      "Requirement already satisfied: numpy>=1.14.5 in d:\\youtube\\od\\tfodcourse\\tfod\\lib\\site-packages (from opencv-python) (1.20.2)\n"
     ]
    }
   ],
   "source": [
    "!pip install opencv-python"
   ]
  },
  {
   "cell_type": "code",
   "execution_count": 1,
   "metadata": {},
   "outputs": [],
   "source": [
    "# Import opencv\n",
    "import cv2 \n",
    "\n",
    "# Import uuid\n",
    "import uuid\n",
    "\n",
    "# Import Operating System\n",
    "import os\n",
    "\n",
    "# Import time\n",
    "import time"
   ]
  },
  {
   "cell_type": "markdown",
   "metadata": {},
   "source": [
    "# 2. Define Images to Collect"
   ]
  },
  {
   "cell_type": "code",
   "execution_count": 2,
   "metadata": {},
   "outputs": [],
   "source": [
    "labels = ['thumbsup', 'thumbsdown', 'thankyou', 'livelong']\n",
    "number_imgs = 10"
   ]
  },
  {
   "cell_type": "markdown",
   "metadata": {},
   "source": [
    "# 3. Setup Folders "
   ]
  },
  {
   "cell_type": "code",
   "execution_count": 3,
   "metadata": {},
   "outputs": [],
   "source": [
    "IMAGES_PATH = os.path.join('Tensorflow', 'workspace', 'images', 'collectedimages')"
   ]
  },
  {
   "cell_type": "code",
   "execution_count": 4,
   "metadata": {},
   "outputs": [],
   "source": [
    "if not os.path.exists(IMAGES_PATH):\n",
    "    if os.name == 'posix':\n",
    "        !mkdir -p {IMAGES_PATH}\n",
    "    if os.name == 'nt':\n",
    "         !mkdir {IMAGES_PATH}\n",
    "for label in labels:\n",
    "    path = os.path.join(IMAGES_PATH, label)\n",
    "    if not os.path.exists(path):\n",
    "        !mkdir {path}"
   ]
  },
  {
   "cell_type": "markdown",
   "metadata": {},
   "source": [
    "# 4. Capture Images"
   ]
  },
  {
   "cell_type": "code",
   "execution_count": 10,
   "metadata": {},
   "outputs": [
    {
     "name": "stdout",
     "output_type": "stream",
     "text": [
      "Collecting images for thumbsup\n",
      "Collecting image 0\n",
      "Collecting image 1\n",
      "Collecting image 2\n",
      "Collecting image 3\n",
      "Collecting image 4\n",
      "Collecting image 5\n",
      "Collecting image 6\n",
      "Collecting image 7\n",
      "Collecting image 8\n",
      "Collecting image 9\n",
      "Collecting images for thumbsdown\n",
      "Collecting image 0\n",
      "Collecting image 1\n",
      "Collecting image 2\n",
      "Collecting image 3\n",
      "Collecting image 4\n",
      "Collecting image 5\n",
      "Collecting image 6\n",
      "Collecting image 7\n",
      "Collecting image 8\n",
      "Collecting image 9\n",
      "Collecting images for thankyou\n",
      "Collecting image 0\n",
      "Collecting image 1\n",
      "Collecting image 2\n",
      "Collecting image 3\n",
      "Collecting image 4\n",
      "Collecting image 5\n",
      "Collecting image 6\n",
      "Collecting image 7\n",
      "Collecting image 8\n",
      "Collecting image 9\n",
      "Collecting images for livelong\n",
      "Collecting image 0\n",
      "Collecting image 1\n",
      "Collecting image 2\n",
      "Collecting image 3\n",
      "Collecting image 4\n",
      "Collecting image 5\n",
      "Collecting image 6\n",
      "Collecting image 7\n",
      "Collecting image 8\n",
      "Collecting image 9\n"
     ]
    }
   ],
   "source": [
    "for label in labels:\n",
    "    cap = cv2.VideoCapture(0)\n",
    "    print('Collecting images for {}'.format(label))\n",
    "    time.sleep(5)\n",
    "    for imgnum in range(number_imgs):\n",
    "        print('Collecting image {}'.format(imgnum))\n",
    "        ret, frame = cap.read()\n",
    "        imgname = os.path.join(IMAGES_PATH,label,label+'.'+'{}.jpg'.format(str(uuid.uuid1())))\n",
    "        cv2.imwrite(imgname, frame)\n",
    "        cv2.imshow('frame', frame)\n",
    "        time.sleep(2)\n",
    "\n",
    "        if cv2.waitKey(1) & 0xFF == ord('q'):\n",
    "            break\n",
    "cap.release()\n",
    "cv2.destroyAllWindows()"
   ]
  },
  {
   "cell_type": "markdown",
   "metadata": {},
   "source": [
    "# 5. Image Labelling"
   ]
  },
  {
   "cell_type": "code",
   "execution_count": 15,
   "metadata": {},
   "outputs": [
    {
     "name": "stdout",
     "output_type": "stream",
     "text": [
      "Requirement already satisfied: pyqt5 in c:\\programdata\\anaconda3\\lib\\site-packages (5.15.6)\n",
      "Requirement already satisfied: lxml in c:\\programdata\\anaconda3\\lib\\site-packages (4.8.0)\n",
      "Requirement already satisfied: PyQt5-Qt5>=5.15.2 in c:\\programdata\\anaconda3\\lib\\site-packages (from pyqt5) (5.15.2)\n",
      "Requirement already satisfied: PyQt5-sip<13,>=12.8 in c:\\programdata\\anaconda3\\lib\\site-packages (from pyqt5) (12.10.1)\n"
     ]
    },
    {
     "name": "stderr",
     "output_type": "stream",
     "text": [
      "WARNING: Ignoring invalid distribution -ensorflow (c:\\programdata\\anaconda3\\lib\\site-packages)\n",
      "WARNING: Ignoring invalid distribution -ensorflow (c:\\programdata\\anaconda3\\lib\\site-packages)\n",
      "WARNING: Ignoring invalid distribution -ensorflow (c:\\programdata\\anaconda3\\lib\\site-packages)\n",
      "WARNING: Ignoring invalid distribution -ensorflow (c:\\programdata\\anaconda3\\lib\\site-packages)\n",
      "WARNING: Ignoring invalid distribution -ensorflow (c:\\programdata\\anaconda3\\lib\\site-packages)\n",
      "WARNING: Ignoring invalid distribution -ensorflow (c:\\programdata\\anaconda3\\lib\\site-packages)\n"
     ]
    }
   ],
   "source": [
    "!pip install --upgrade pyqt5 lxml=="
   ]
  },
  {
   "cell_type": "code",
   "execution_count": 6,
   "metadata": {},
   "outputs": [],
   "source": [
    "LABELIMG_PATH = os.path.join('Tensorflow', 'labelimg')"
   ]
  },
  {
   "cell_type": "code",
   "execution_count": 7,
   "metadata": {},
   "outputs": [],
   "source": [
    "if not os.path.exists(LABELIMG_PATH):\n",
    "    !mkdir {LABELIMG_PATH}\n",
    "    !git clone https://github.com/tzutalin/labelImg {LABELIMG_PATH}"
   ]
  },
  {
   "cell_type": "code",
   "execution_count": 8,
   "metadata": {},
   "outputs": [],
   "source": [
    "if os.name == 'posix':\n",
    "    !make qt5py3\n",
    "if os.name =='nt':\n",
    "    !cd {LABELIMG_PATH} && pyrcc5 -o libs/resources.py resources.qrc"
   ]
  },
  {
   "cell_type": "code",
   "execution_count": 11,
   "metadata": {},
   "outputs": [
    {
     "name": "stdout",
     "output_type": "stream",
     "text": [
      "Image:C:\\Users\\teo28\\Documents\\Leicester\\TEST\\Tensorflow\\workspace\\images\\collectedimages\\thumbsup\\thumbsup.6cfba4b3-d07f-11ec-878b-4cd577a9ac88.jpg -> Annotation:C:/Users/teo28/Documents/Leicester/TEST/Tensorflow/workspace/images/collectedimages/thumbsup/thumbsup.6cfba4b3-d07f-11ec-878b-4cd577a9ac88.xml\n",
      "Image:C:\\Users\\teo28\\Documents\\Leicester\\TEST\\Tensorflow\\workspace\\images\\collectedimages\\thumbsup\\thumbsup.6e302328-d07f-11ec-a2a7-4cd577a9ac88.jpg -> Annotation:C:/Users/teo28/Documents/Leicester/TEST/Tensorflow/workspace/images/collectedimages/thumbsup/thumbsup.6e302328-d07f-11ec-a2a7-4cd577a9ac88.xml\n",
      "Image:C:\\Users\\teo28\\Documents\\Leicester\\TEST\\Tensorflow\\workspace\\images\\collectedimages\\thumbsup\\thumbsup.6f6678bb-d07f-11ec-8df1-4cd577a9ac88.jpg -> Annotation:C:/Users/teo28/Documents/Leicester/TEST/Tensorflow/workspace/images/collectedimages/thumbsup/thumbsup.6f6678bb-d07f-11ec-8df1-4cd577a9ac88.xml\n",
      "Image:C:\\Users\\teo28\\Documents\\Leicester\\TEST\\Tensorflow\\workspace\\images\\collectedimages\\thumbsup\\thumbsup.71d1b6b0-d07f-11ec-aeac-4cd577a9ac88.jpg -> Annotation:C:/Users/teo28/Documents/Leicester/TEST/Tensorflow/workspace/images/collectedimages/thumbsup/thumbsup.71d1b6b0-d07f-11ec-aeac-4cd577a9ac88.xml\n",
      "Image:C:\\Users\\teo28\\Documents\\Leicester\\TEST\\Tensorflow\\workspace\\images\\collectedimages\\thumbsup\\thumbsup.76aa74ca-d07f-11ec-90b8-4cd577a9ac88.jpg -> Annotation:C:/Users/teo28/Documents/Leicester/TEST/Tensorflow/workspace/images/collectedimages/thumbsup/thumbsup.76aa74ca-d07f-11ec-90b8-4cd577a9ac88.xml\n",
      "Image:C:\\Users\\teo28\\Documents\\Leicester\\TEST\\Tensorflow\\workspace\\images\\collectedimages\\thumbsup\\thumbsup.77df7f7a-d07f-11ec-a8ea-4cd577a9ac88.jpg -> Annotation:C:/Users/teo28/Documents/Leicester/TEST/Tensorflow/workspace/images/collectedimages/thumbsup/thumbsup.77df7f7a-d07f-11ec-a8ea-4cd577a9ac88.xml\n",
      "Image:C:\\Users\\teo28\\Documents\\Leicester\\TEST\\Tensorflow\\workspace\\images\\collectedimages\\thumbsup\\thumbsup.709c8065-d07f-11ec-ac68-4cd577a9ac88.jpg -> Annotation:C:/Users/teo28/Documents/Leicester/TEST/Tensorflow/workspace/images/collectedimages/thumbsup/thumbsup.709c8065-d07f-11ec-ac68-4cd577a9ac88.xml\n",
      "Image:C:\\Users\\teo28\\Documents\\Leicester\\TEST\\Tensorflow\\workspace\\images\\collectedimages\\thumbsup\\thumbsup.743ee2de-d07f-11ec-8cde-4cd577a9ac88.jpg -> Annotation:C:/Users/teo28/Documents/Leicester/TEST/Tensorflow/workspace/images/collectedimages/thumbsup/thumbsup.743ee2de-d07f-11ec-8cde-4cd577a9ac88.xml\n",
      "Image:C:\\Users\\teo28\\Documents\\Leicester\\TEST\\Tensorflow\\workspace\\images\\collectedimages\\thumbsup\\thumbsup.7307d782-d07f-11ec-9683-4cd577a9ac88.jpg -> Annotation:C:/Users/teo28/Documents/Leicester/TEST/Tensorflow/workspace/images/collectedimages/thumbsup/thumbsup.7307d782-d07f-11ec-9683-4cd577a9ac88.xml\n",
      "Image:C:\\Users\\teo28\\Documents\\Leicester\\TEST\\Tensorflow\\workspace\\images\\collectedimages\\thumbsup\\thumbsup.7574a1f1-d07f-11ec-b33e-4cd577a9ac88.jpg -> Annotation:C:/Users/teo28/Documents/Leicester/TEST/Tensorflow/workspace/images/collectedimages/thumbsup/thumbsup.7574a1f1-d07f-11ec-b33e-4cd577a9ac88.xml\n",
      "Image:C:\\Users\\teo28\\Documents\\Leicester\\TEST\\Tensorflow\\workspace\\images\\collectedimages\\thumbsup\\thumbsup.95685599-d07b-11ec-831f-4cd577a9ac88.jpg -> Annotation:C:/Users/teo28/Documents/Leicester/TEST/Tensorflow/workspace/images/collectedimages/thumbsup/thumbsup.95685599-d07b-11ec-831f-4cd577a9ac88.xml\n",
      "Image:C:\\Users\\teo28\\Documents\\Leicester\\TEST\\Tensorflow\\workspace\\images\\collectedimages\\thumbsdown\\thumbsdown.7e8fdc25-d07f-11ec-aa3e-4cd577a9ac88.jpg -> Annotation:C:/Users/teo28/Documents/Leicester/TEST/Tensorflow/workspace/images/collectedimages/thumbsdown/thumbsdown.7e8fdc25-d07f-11ec-aa3e-4cd577a9ac88.xml\n",
      "Cancel creation.\n",
      "Image:C:\\Users\\teo28\\Documents\\Leicester\\TEST\\Tensorflow\\workspace\\images\\collectedimages\\thumbsdown\\thumbsdown.7fc5d5f0-d07f-11ec-b30c-4cd577a9ac88.jpg -> Annotation:C:/Users/teo28/Documents/Leicester/TEST/Tensorflow/workspace/images/collectedimages/thumbsdown/thumbsdown.7fc5d5f0-d07f-11ec-b30c-4cd577a9ac88.xml\n",
      "Image:C:\\Users\\teo28\\Documents\\Leicester\\TEST\\Tensorflow\\workspace\\images\\collectedimages\\thumbsdown\\thumbsdown.80fabe59-d07f-11ec-ac18-4cd577a9ac88.jpg -> Annotation:C:/Users/teo28/Documents/Leicester/TEST/Tensorflow/workspace/images/collectedimages/thumbsdown/thumbsdown.80fabe59-d07f-11ec-ac18-4cd577a9ac88.xml\n",
      "Image:C:\\Users\\teo28\\Documents\\Leicester\\TEST\\Tensorflow\\workspace\\images\\collectedimages\\thumbsdown\\thumbsdown.85cfd742-d07f-11ec-9563-4cd577a9ac88.jpg -> Annotation:C:/Users/teo28/Documents/Leicester/TEST/Tensorflow/workspace/images/collectedimages/thumbsdown/thumbsdown.85cfd742-d07f-11ec-9563-4cd577a9ac88.xml\n",
      "Image:C:\\Users\\teo28\\Documents\\Leicester\\TEST\\Tensorflow\\workspace\\images\\collectedimages\\thumbsdown\\thumbsdown.822ffb49-d07f-11ec-a8c2-4cd577a9ac88.jpg -> Annotation:C:/Users/teo28/Documents/Leicester/TEST/Tensorflow/workspace/images/collectedimages/thumbsdown/thumbsdown.822ffb49-d07f-11ec-a8c2-4cd577a9ac88.xml\n",
      "Image:C:\\Users\\teo28\\Documents\\Leicester\\TEST\\Tensorflow\\workspace\\images\\collectedimages\\thumbsdown\\thumbsdown.849a069b-d07f-11ec-a193-4cd577a9ac88.jpg -> Annotation:C:/Users/teo28/Documents/Leicester/TEST/Tensorflow/workspace/images/collectedimages/thumbsdown/thumbsdown.849a069b-d07f-11ec-a193-4cd577a9ac88.xml\n",
      "Image:C:\\Users\\teo28\\Documents\\Leicester\\TEST\\Tensorflow\\workspace\\images\\collectedimages\\thumbsdown\\thumbsdown.883accfb-d07f-11ec-a52c-4cd577a9ac88.jpg -> Annotation:C:/Users/teo28/Documents/Leicester/TEST/Tensorflow/workspace/images/collectedimages/thumbsdown/thumbsdown.883accfb-d07f-11ec-a52c-4cd577a9ac88.xml\n",
      "Image:C:\\Users\\teo28\\Documents\\Leicester\\TEST\\Tensorflow\\workspace\\images\\collectedimages\\thumbsdown\\thumbsdown.896ff014-d07f-11ec-bf62-4cd577a9ac88.jpg -> Annotation:C:/Users/teo28/Documents/Leicester/TEST/Tensorflow/workspace/images/collectedimages/thumbsdown/thumbsdown.896ff014-d07f-11ec-bf62-4cd577a9ac88.xml\n",
      "Image:C:\\Users\\teo28\\Documents\\Leicester\\TEST\\Tensorflow\\workspace\\images\\collectedimages\\thumbsdown\\thumbsdown.8364d04c-d07f-11ec-8d93-4cd577a9ac88.jpg -> Annotation:C:/Users/teo28/Documents/Leicester/TEST/Tensorflow/workspace/images/collectedimages/thumbsdown/thumbsdown.8364d04c-d07f-11ec-8d93-4cd577a9ac88.xml\n",
      "Image:C:\\Users\\teo28\\Documents\\Leicester\\TEST\\Tensorflow\\workspace\\images\\collectedimages\\thumbsdown\\thumbsdown.8705f846-d07f-11ec-8425-4cd577a9ac88.jpg -> Annotation:C:/Users/teo28/Documents/Leicester/TEST/Tensorflow/workspace/images/collectedimages/thumbsdown/thumbsdown.8705f846-d07f-11ec-8425-4cd577a9ac88.xml\n",
      "Image:C:\\Users\\teo28\\Documents\\Leicester\\TEST\\Tensorflow\\workspace\\images\\collectedimages\\thankyou\\thankyou.8ff8849d-d07f-11ec-b6af-4cd577a9ac88.jpg -> Annotation:C:/Users/teo28/Documents/Leicester/TEST/Tensorflow/workspace/images/collectedimages/thankyou/thankyou.8ff8849d-d07f-11ec-b6af-4cd577a9ac88.xml\n",
      "Image:C:\\Users\\teo28\\Documents\\Leicester\\TEST\\Tensorflow\\workspace\\images\\collectedimages\\thankyou\\thankyou.9adc534a-d07f-11ec-aadb-4cd577a9ac88.jpg -> Annotation:C:/Users/teo28/Documents/Leicester/TEST/Tensorflow/workspace/images/collectedimages/thankyou/thankyou.9adc534a-d07f-11ec-aadb-4cd577a9ac88.xml\n",
      "Image:C:\\Users\\teo28\\Documents\\Leicester\\TEST\\Tensorflow\\workspace\\images\\collectedimages\\thankyou\\thankyou.94ce5a09-d07f-11ec-b776-4cd577a9ac88.jpg -> Annotation:C:/Users/teo28/Documents/Leicester/TEST/Tensorflow/workspace/images/collectedimages/thankyou/thankyou.94ce5a09-d07f-11ec-b776-4cd577a9ac88.xml\n",
      "Image:C:\\Users\\teo28\\Documents\\Leicester\\TEST\\Tensorflow\\workspace\\images\\collectedimages\\thankyou\\thankyou.99a71cc2-d07f-11ec-9a4a-4cd577a9ac88.jpg -> Annotation:C:/Users/teo28/Documents/Leicester/TEST/Tensorflow/workspace/images/collectedimages/thankyou/thankyou.99a71cc2-d07f-11ec-9a4a-4cd577a9ac88.xml\n",
      "Image:C:\\Users\\teo28\\Documents\\Leicester\\TEST\\Tensorflow\\workspace\\images\\collectedimages\\thankyou\\thankyou.912d45b9-d07f-11ec-b94e-4cd577a9ac88.jpg -> Annotation:C:/Users/teo28/Documents/Leicester/TEST/Tensorflow/workspace/images/collectedimages/thankyou/thankyou.912d45b9-d07f-11ec-b94e-4cd577a9ac88.xml\n",
      "Image:C:\\Users\\teo28\\Documents\\Leicester\\TEST\\Tensorflow\\workspace\\images\\collectedimages\\thankyou\\thankyou.973ace64-d07f-11ec-b062-4cd577a9ac88.jpg -> Annotation:C:/Users/teo28/Documents/Leicester/TEST/Tensorflow/workspace/images/collectedimages/thankyou/thankyou.973ace64-d07f-11ec-b062-4cd577a9ac88.xml\n",
      "Image:C:\\Users\\teo28\\Documents\\Leicester\\TEST\\Tensorflow\\workspace\\images\\collectedimages\\thankyou\\thankyou.9263b4a1-d07f-11ec-ab3b-4cd577a9ac88.jpg -> Annotation:C:/Users/teo28/Documents/Leicester/TEST/Tensorflow/workspace/images/collectedimages/thankyou/thankyou.9263b4a1-d07f-11ec-ab3b-4cd577a9ac88.xml\n",
      "Image:C:\\Users\\teo28\\Documents\\Leicester\\TEST\\Tensorflow\\workspace\\images\\collectedimages\\thankyou\\thankyou.9604fef6-d07f-11ec-b62e-4cd577a9ac88.jpg -> Annotation:C:/Users/teo28/Documents/Leicester/TEST/Tensorflow/workspace/images/collectedimages/thankyou/thankyou.9604fef6-d07f-11ec-b62e-4cd577a9ac88.xml\n",
      "Cancel creation.\n",
      "Image:C:\\Users\\teo28\\Documents\\Leicester\\TEST\\Tensorflow\\workspace\\images\\collectedimages\\thankyou\\thankyou.9398871e-d07f-11ec-8065-4cd577a9ac88.jpg -> Annotation:C:/Users/teo28/Documents/Leicester/TEST/Tensorflow/workspace/images/collectedimages/thankyou/thankyou.9398871e-d07f-11ec-8065-4cd577a9ac88.xml\n",
      "Cancel creation.\n",
      "Cancel creation.\n",
      "Image:C:\\Users\\teo28\\Documents\\Leicester\\TEST\\Tensorflow\\workspace\\images\\collectedimages\\thankyou\\thankyou.9871445f-d07f-11ec-be93-4cd577a9ac88.jpg -> Annotation:C:/Users/teo28/Documents/Leicester/TEST/Tensorflow/workspace/images/collectedimages/thankyou/thankyou.9871445f-d07f-11ec-be93-4cd577a9ac88.xml\n",
      "Image:C:\\Users\\teo28\\Documents\\Leicester\\TEST\\Tensorflow\\workspace\\images\\collectedimages\\livelong\\livelong.a2a504c7-d07f-11ec-8a48-4cd577a9ac88.jpg -> Annotation:C:/Users/teo28/Documents/Leicester/TEST/Tensorflow/workspace/images/collectedimages/livelong/livelong.a2a504c7-d07f-11ec-8a48-4cd577a9ac88.xml\n",
      "Image:C:\\Users\\teo28\\Documents\\Leicester\\TEST\\Tensorflow\\workspace\\images\\collectedimages\\livelong\\livelong.a2a504c7-d07f-11ec-8a48-4cd577a9ac88.jpg -> Annotation:C:/Users/teo28/Documents/Leicester/TEST/Tensorflow/workspace/images/collectedimages/livelong/livelong.a2a504c7-d07f-11ec-8a48-4cd577a9ac88.xml\n",
      "Image:C:\\Users\\teo28\\Documents\\Leicester\\TEST\\Tensorflow\\workspace\\images\\collectedimages\\livelong\\livelong.a3da3b16-d07f-11ec-8394-4cd577a9ac88.jpg -> Annotation:C:/Users/teo28/Documents/Leicester/TEST/Tensorflow/workspace/images/collectedimages/livelong/livelong.a3da3b16-d07f-11ec-8394-4cd577a9ac88.xml\n",
      "Cancel creation.\n",
      "Image:C:\\Users\\teo28\\Documents\\Leicester\\TEST\\Tensorflow\\workspace\\images\\collectedimages\\livelong\\livelong.a8af14d4-d07f-11ec-889d-4cd577a9ac88.jpg -> Annotation:C:/Users/teo28/Documents/Leicester/TEST/Tensorflow/workspace/images/collectedimages/livelong/livelong.a8af14d4-d07f-11ec-889d-4cd577a9ac88.xml\n",
      "Image:C:\\Users\\teo28\\Documents\\Leicester\\TEST\\Tensorflow\\workspace\\images\\collectedimages\\livelong\\livelong.a9e499c8-d07f-11ec-af2b-4cd577a9ac88.jpg -> Annotation:C:/Users/teo28/Documents/Leicester/TEST/Tensorflow/workspace/images/collectedimages/livelong/livelong.a9e499c8-d07f-11ec-af2b-4cd577a9ac88.xml\n",
      "Image:C:\\Users\\teo28\\Documents\\Leicester\\TEST\\Tensorflow\\workspace\\images\\collectedimages\\livelong\\livelong.a16e47fd-d07f-11ec-974c-4cd577a9ac88.jpg -> Annotation:C:/Users/teo28/Documents/Leicester/TEST/Tensorflow/workspace/images/collectedimages/livelong/livelong.a16e47fd-d07f-11ec-974c-4cd577a9ac88.xml\n",
      "Image:C:\\Users\\teo28\\Documents\\Leicester\\TEST\\Tensorflow\\workspace\\images\\collectedimages\\livelong\\livelong.a50fbf90-d07f-11ec-b677-4cd577a9ac88.jpg -> Annotation:C:/Users/teo28/Documents/Leicester/TEST/Tensorflow/workspace/images/collectedimages/livelong/livelong.a50fbf90-d07f-11ec-b677-4cd577a9ac88.xml\n",
      "Image:C:\\Users\\teo28\\Documents\\Leicester\\TEST\\Tensorflow\\workspace\\images\\collectedimages\\livelong\\livelong.a644a830-d07f-11ec-9188-4cd577a9ac88.jpg -> Annotation:C:/Users/teo28/Documents/Leicester/TEST/Tensorflow/workspace/images/collectedimages/livelong/livelong.a644a830-d07f-11ec-9188-4cd577a9ac88.xml\n",
      "Image:C:\\Users\\teo28\\Documents\\Leicester\\TEST\\Tensorflow\\workspace\\images\\collectedimages\\livelong\\livelong.a779aa5f-d07f-11ec-bd90-4cd577a9ac88.jpg -> Annotation:C:/Users/teo28/Documents/Leicester/TEST/Tensorflow/workspace/images/collectedimages/livelong/livelong.a779aa5f-d07f-11ec-bd90-4cd577a9ac88.xml\n",
      "Image:C:\\Users\\teo28\\Documents\\Leicester\\TEST\\Tensorflow\\workspace\\images\\collectedimages\\livelong\\livelong.ab193404-d07f-11ec-ad7e-4cd577a9ac88.jpg -> Annotation:C:/Users/teo28/Documents/Leicester/TEST/Tensorflow/workspace/images/collectedimages/livelong/livelong.ab193404-d07f-11ec-ad7e-4cd577a9ac88.xml\n",
      "Image:C:\\Users\\teo28\\Documents\\Leicester\\TEST\\Tensorflow\\workspace\\images\\collectedimages\\livelong\\livelong.ac4feaf8-d07f-11ec-9b16-4cd577a9ac88.jpg -> Annotation:C:/Users/teo28/Documents/Leicester/TEST/Tensorflow/workspace/images/collectedimages/livelong/livelong.ac4feaf8-d07f-11ec-9b16-4cd577a9ac88.xml\n"
     ]
    }
   ],
   "source": [
    "!cd {LABELIMG_PATH} && python labelImg.py"
   ]
  },
  {
   "cell_type": "markdown",
   "metadata": {},
   "source": [
    "# 6. Move them into a Training and Testing Partition"
   ]
  },
  {
   "cell_type": "markdown",
   "metadata": {},
   "source": [
    "# OPTIONAL - 7. Compress them for Colab Training"
   ]
  },
  {
   "cell_type": "code",
   "execution_count": 20,
   "metadata": {},
   "outputs": [],
   "source": [
    "TRAIN_PATH = os.path.join('Tensorflow', 'workspace', 'images', 'train')\n",
    "TEST_PATH = os.path.join('Tensorflow', 'workspace', 'images', 'test')\n",
    "ARCHIVE_PATH = os.path.join('Tensorflow', 'workspace', 'images', 'archive.tar.gz')"
   ]
  },
  {
   "cell_type": "code",
   "execution_count": 21,
   "metadata": {},
   "outputs": [],
   "source": [
    "!tar -czf {ARCHIVE_PATH} {TRAIN_PATH} {TEST_PATH}"
   ]
  },
  {
   "cell_type": "code",
   "execution_count": null,
   "metadata": {},
   "outputs": [],
   "source": []
  }
 ],
 "metadata": {
  "kernelspec": {
   "display_name": "Opticut",
   "language": "python",
   "name": "opticut"
  },
  "language_info": {
   "codemirror_mode": {
    "name": "ipython",
    "version": 3
   },
   "file_extension": ".py",
   "mimetype": "text/x-python",
   "name": "python",
   "nbconvert_exporter": "python",
   "pygments_lexer": "ipython3",
   "version": "3.9.7"
  }
 },
 "nbformat": 4,
 "nbformat_minor": 4
}
